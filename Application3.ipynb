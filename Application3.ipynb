{
 "cells": [
  {
   "cell_type": "code",
   "execution_count": null,
   "metadata": {},
   "outputs": [],
   "source": [
    "import pandas as pd\n",
    "import matplotlib.pyplot as plt\n",
    "\n",
    "from sklearn.preprocessing import StandardScaler, OneHotEncoder, LabelEncoder\n",
    "from sklearn.model_selection import train_test_split\n",
    "from sklearn.ensemble import RandomForestClassifier\n",
    "from sklearn.metrics import accuracy_score"
   ]
  },
  {
   "cell_type": "code",
   "execution_count": null,
   "metadata": {},
   "outputs": [],
   "source": [
    "file_path = 'preprocessed_dataset.csv'\n",
    "data = pd.read_csv(file_path)\n",
    "\n",
    "columns = ['line_number', 'merchant', 'category', 'amt', 'gender', 'city', 'state','city_pop', 'job', 'is_fraud', 'unix_time', 'age']\n",
    "\n",
    "categorical_columns_onehot = ['gender', 'category']\n",
    "categorical_columns_label = ['merchant', 'city','state', 'job']\n",
    "numerical_columns = ['line_number', 'amt', 'city_pop','unix_time', 'age']\n",
    "\n",
    "scaler = StandardScaler()\n",
    "encoder = OneHotEncoder()\n",
    "label = LabelEncoder()\n",
    "\n",
    "for col in categorical_columns_label:\n",
    "    data[col] = label.fit_transform(data[col])\n",
    "\n",
    "scaled_data = scaler.fit_transform(data[numerical_columns])\n",
    "scaled_df = pd.DataFrame(scaled_data, columns=numerical_columns)\n",
    "\n",
    "encoded_data_onehot = encoder.fit_transform(data[categorical_columns_onehot]).toarray()\n",
    "encoded_df_onehot = pd.DataFrame(encoded_data_onehot, columns=encoder.get_feature_names_out(categorical_columns_onehot))\n",
    "\n",
    "combined_df = pd.concat([scaled_df, encoded_df_onehot, data[categorical_columns_label], data['is_fraud']], axis=1)\n",
    "\n",
    "print(combined_df.head())\n",
    "print(combined_df.info())\n",
    "\n",
    "combined_df.to_csv('preprocessed_classification_data.csv', index=False)"
   ]
  },
  {
   "cell_type": "code",
   "execution_count": null,
   "metadata": {},
   "outputs": [],
   "source": [
    "data = pd.read_csv('preprocessed_classification_data.csv')\n",
    "\n",
    "X = data.drop('is_fraud', axis=1)\n",
    "y = data['is_fraud']\n",
    "\n",
    "X_train, X_test, y_train, y_test = train_test_split(X, y, test_size=0.2, random_state=42)\n",
    "\n",
    "model = RandomForestClassifier(n_estimators=100, random_state=42)\n",
    "model.fit(X_train, y_train)\n",
    "\n",
    "y_pred_train = model.predict(X_train)\n",
    "y_pred_test = model.predict(X_test)\n",
    "\n",
    "train_accuracy = accuracy_score(y_train, y_pred_train)\n",
    "test_accuracy = accuracy_score(y_test, y_pred_test)\n",
    "\n",
    "print(\"Training Accuracy:\", train_accuracy)\n",
    "print(\"Testing Accuracy:\", test_accuracy)\n",
    "\n",
    "plt.figure(figsize=(10, 5))\n",
    "plt.plot(['Train', 'Test'], [train_accuracy, test_accuracy], marker='o', linestyle='--', color='b')\n",
    "plt.title('Model Accuracy')\n",
    "plt.xlabel('Dataset')\n",
    "plt.ylabel('Accuracy')\n",
    "plt.grid(True)\n",
    "plt.show()"
   ]
  }
 ],
 "metadata": {
  "kernelspec": {
   "display_name": ".venv",
   "language": "python",
   "name": "python3"
  },
  "language_info": {
   "name": "python",
   "version": "3.10.7"
  }
 },
 "nbformat": 4,
 "nbformat_minor": 2
}
